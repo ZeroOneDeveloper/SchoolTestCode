{
 "cells": [
  {
   "cell_type": "markdown",
   "source": [
    "# Dijkstra Algorithm\n",
    "\n",
    "## [참고 자료](https://justkode.kr/algorithm/python-dijkstra)"
   ],
   "metadata": {
    "collapsed": false
   }
  },
  {
   "cell_type": "markdown",
   "source": [
    "# Graph Initializing"
   ],
   "metadata": {
    "collapsed": false
   }
  },
  {
   "cell_type": "code",
   "execution_count": 1,
   "outputs": [],
   "source": [
    "Graph = {\n",
    "    'A': {'B': 8, 'C': 1, 'D': 2},\n",
    "    'B': {},\n",
    "    'C': {'B': 5, 'D': 2},\n",
    "    'D': {'E': 3, 'F': 5},\n",
    "    'E': {'F': 1},\n",
    "    'F': {'A': 5}\n",
    "}"
   ],
   "metadata": {
    "collapsed": false
   }
  },
  {
   "cell_type": "markdown",
   "source": [
    "# Graph Visualization"
   ],
   "metadata": {
    "collapsed": false
   }
  },
  {
   "cell_type": "code",
   "execution_count": null,
   "outputs": [],
   "source": [
    "from pyvis.network import Network\n",
    "\n",
    "net = Network(notebook=True)\n",
    "\n",
    "for pos in Graph:\n",
    "    net.add_node(pos)\n",
    "\n",
    "for pos in Graph:\n",
    "    for path in Graph[pos]:\n",
    "        net.add_edge(pos, path, value=Graph[pos][path], title=Graph[pos][path])\n",
    "\n",
    "net.save_graph('map.html')"
   ],
   "metadata": {
    "collapsed": false,
    "pycharm": {
     "is_executing": true
    }
   }
  },
  {
   "cell_type": "code",
   "execution_count": 3,
   "outputs": [
    {
     "data": {
      "text/plain": "{'A': 0, 'B': 6, 'C': 1, 'D': 2, 'E': 5, 'F': 6}"
     },
     "execution_count": 3,
     "metadata": {},
     "output_type": "execute_result"
    }
   ],
   "source": [
    "import heapq\n",
    "\n",
    "def Dijkstra(graph, start):\n",
    "    distances = {node: float('inf') for node in graph}\n",
    "    distances[start] = 0\n",
    "    queue = []\n",
    "    heapq.heappush(queue, [distances[start], start])\n",
    "\n",
    "    while queue:\n",
    "        current_distance, current_destination = heapq.heappop(queue)\n",
    "\n",
    "        if distances[current_destination] < current_distance:\n",
    "            continue\n",
    "\n",
    "        for new_destination, new_distance in graph[current_destination].items():\n",
    "            distance = current_distance + new_distance\n",
    "            if distance < distances[new_destination]:\n",
    "                distances[new_destination] = distance\n",
    "                heapq.heappush(queue, [distance, new_destination])\n",
    "\n",
    "    return distances\n",
    "\n",
    "\n",
    "Dijkstra(graph=Graph, start='A')"
   ],
   "metadata": {
    "collapsed": false
   }
  },
  {
   "cell_type": "markdown",
   "source": [
    "# A-start Algorithm\n",
    "\n",
    "## [참고 자료](https://choiseokwon.tistory.com/210)"
   ],
   "metadata": {
    "collapsed": false
   }
  },
  {
   "cell_type": "markdown",
   "source": [
    "# Maze Initializing"
   ],
   "metadata": {
    "collapsed": false
   }
  },
  {
   "cell_type": "code",
   "execution_count": 4,
   "outputs": [],
   "source": [
    "# 미로 변수 ( 갈 수 있는 길을 0, 벽을 1로 표시한다. )\n",
    "maze = [[0, 0, 0, 0, 1, 0, 0, 0, 0, 0],\n",
    "        [0, 0, 0, 0, 1, 0, 0, 0, 0, 0],\n",
    "        [0, 0, 0, 0, 1, 0, 0, 0, 0, 0],\n",
    "        [0, 0, 0, 0, 1, 0, 0, 0, 0, 0],\n",
    "        [0, 0, 0, 0, 1, 0, 0, 0, 0, 0],\n",
    "        [0, 0, 0, 0, 0, 0, 0, 0, 0, 0],\n",
    "        [0, 0, 0, 0, 1, 0, 0, 0, 0, 0],\n",
    "        [0, 0, 0, 0, 1, 0, 0, 0, 0, 0],\n",
    "        [0, 0, 0, 0, 1, 0, 0, 0, 0, 0],\n",
    "        [0, 0, 0, 0, 0, 0, 0, 0, 0, 0]]\n",
    "\n",
    "# 시작점의 좌표\n",
    "start = (0, 0)\n",
    "\n",
    "# 목적지의 좌표\n",
    "end = (7, 6)"
   ],
   "metadata": {
    "collapsed": false
   }
  },
  {
   "cell_type": "code",
   "execution_count": 5,
   "outputs": [
    {
     "name": "stdout",
     "output_type": "stream",
     "text": [
      "[(0, 0), (1, 1), (2, 2), (3, 3), (4, 3), (5, 4), (6, 5), (7, 6)]\n"
     ]
    }
   ],
   "source": [
    "class Node:    # 노드 클래스\n",
    "    def __init__(self, parent=None, position=None):\n",
    "        self.parent = parent\n",
    "        self.position = position\n",
    "\n",
    "        self.g = 0\n",
    "        self.h = 0\n",
    "        self.f = 0\n",
    "\n",
    "    def __eq__(self, other):\n",
    "        return self.position == other.position\n",
    "\n",
    "def heuristic(node, goal, D=1, D2=2 ** 0.5):    # 인자로 들어온 node에서 goal 까지의 예상 거리 함수\n",
    "    dx = abs(node.position[0] - goal.position[0])\n",
    "    dy = abs(node.position[1] - goal.position[1])\n",
    "    return D * (dx + dy) + (D2 - 2 * D) * min(dx, dy)\n",
    "\n",
    "\n",
    "def aStar(maze, start, end):    # 에이스타 알고리즘\n",
    "    startNode = Node(None, start)\n",
    "    endNode = Node(None, end)\n",
    "\n",
    "    openList = []\n",
    "    closedList = []\n",
    "\n",
    "    openList.append(startNode)\n",
    "\n",
    "    while openList:\n",
    "\n",
    "        currentNode = openList[0]\n",
    "        currentIdx = 0\n",
    "\n",
    "        for index, item in enumerate(openList):\n",
    "            if item.f < currentNode.f:\n",
    "                currentNode = item\n",
    "                currentIdx = index\n",
    "\n",
    "        openList.pop(currentIdx)\n",
    "        closedList.append(currentNode)\n",
    "\n",
    "        if currentNode == endNode:\n",
    "            path = []\n",
    "            current = currentNode\n",
    "            while current is not None:\n",
    "\n",
    "                path.append(current.position)\n",
    "                current = current.parent\n",
    "            return path[::-1]\n",
    "\n",
    "        children = []\n",
    "        for newPosition in [(0, -1), (0, 1), (-1, 0), (1, 0), (-1, -1), (-1, 1), (1, -1), (1, 1)]:\n",
    "            nodePosition = (\n",
    "                currentNode.position[0] + newPosition[0],\n",
    "                currentNode.position[1] + newPosition[1])\n",
    "\n",
    "            within_range_criteria = [\n",
    "                nodePosition[0] > (len(maze) - 1),\n",
    "                nodePosition[0] < 0,\n",
    "                nodePosition[1] > (len(maze[len(maze) - 1]) - 1),\n",
    "                nodePosition[1] < 0,\n",
    "            ]\n",
    "\n",
    "            if any(within_range_criteria):\n",
    "                continue\n",
    "\n",
    "            if maze[nodePosition[0]][nodePosition[1]] != 0:\n",
    "                continue\n",
    "\n",
    "            new_node = Node(currentNode, nodePosition)\n",
    "            children.append(new_node)\n",
    "\n",
    "        for child in children:\n",
    "\n",
    "            if child in closedList:\n",
    "                continue\n",
    "\n",
    "            child.g = currentNode.g + 1\n",
    "            child.h = ((child.position[0] - endNode.position[0]) **\n",
    "                       2) + ((child.position[1] - endNode.position[1]) ** 2)\n",
    "\n",
    "\n",
    "            child.f = child.g + child.h\n",
    "\n",
    "            if len([openNode for openNode in openList\n",
    "                    if child == openNode and child.g > openNode.g]) > 0:\n",
    "                continue\n",
    "\n",
    "            openList.append(child)\n",
    "\n",
    "path = aStar(maze, start, end)\n",
    "print(path)"
   ],
   "metadata": {
    "collapsed": false
   }
  },
  {
   "cell_type": "code",
   "execution_count": null,
   "outputs": [],
   "source": [],
   "metadata": {
    "collapsed": false
   }
  }
 ],
 "metadata": {
  "kernelspec": {
   "display_name": "Python 3",
   "language": "python",
   "name": "python3"
  },
  "language_info": {
   "codemirror_mode": {
    "name": "ipython",
    "version": 2
   },
   "file_extension": ".py",
   "mimetype": "text/x-python",
   "name": "python",
   "nbconvert_exporter": "python",
   "pygments_lexer": "ipython2",
   "version": "2.7.6"
  }
 },
 "nbformat": 4,
 "nbformat_minor": 0
}
